{
  "cells": [
    {
      "cell_type": "markdown",
      "metadata": {
        "id": "BDT4vOj1P1_U"
      },
      "source": [
        "![Demosaicking](https://raw.githubusercontent.com/semilleroCV/Hands-on-Computer-Vision/main/Sesiones/Sesion2/Images/poster_sesion2.png)"
      ]
    },
    {
      "cell_type": "markdown",
      "metadata": {
        "id": "rwgUeHBwP30P"
      },
      "source": [
        "# **Hands-on Sesión 2.1: Image Demosaicking** 🏞️"
      ]
    },
    {
      "cell_type": "markdown",
      "metadata": {
        "id": "gdO3gdlfRoHQ"
      },
      "source": [
        "Demosaicing (o de-mosaicing, demosaicking), también conocido como reconstrucción de color, es un algoritmo de procesamiento de imágenes digitales que se utiliza para reconstruir una imagen a todo color a partir de muestras de color incompletas generadas por un sensor de imagen superpuesto con una matriz de filtros de color (CFA), como un filtro Bayer. También se conoce como interpolación CFA o debayering.\n",
        "\n",
        "La mayoría de las cámaras digitales modernas adquieren imágenes utilizando un único sensor de imagen superpuesto con un CFA, por lo que la demostración es parte del proceso de procesamiento necesario para representar estas imágenes en un formato visible.\n",
        "\n",
        "Muchas cámaras digitales modernas pueden guardar imágenes en formato RAW (sin formato), lo que permite al usuario realizar una demostración mediante software, en lugar de utilizar el firmware integrado de la cámara.\n",
        "\n",
        "# Objetivo:\n",
        "El objetivo de un algoritmo de demosaicking es reconstruir una imagen a todo color (es decir, un conjunto completo de tripletas de color) a partir de los canales de color espacialmente submuestreados emitidos por el CFA. El algoritmo debe tener las siguientes características:\n",
        "\n",
        "\n",
        "\n",
        "*   Evitar la introducción de artefactos de color falso, como alias cromáticos, cremalleras (cambios bruscos y antinaturales de intensidad en varios píxeles vecinos) y franjas moradas\n",
        "*   Máxima preservación de la resolución de la imagen\n",
        "*   Baja complejidad computacional para un procesamiento rápido o una implementación eficiente del hardware en la cámara\n",
        "*   Facilidad de análisis para una reducción precisa del ruido\n",
        "\n",
        "\n",
        "![Demosaicking](https://drive.google.com/uc?id=1j3J5P2GZV_tHFzL7xJ8bNh9KnmL8Q1sX)\n",
        "\n",
        "\n",
        "\n",
        "\n",
        "# Imágenes RAW\n",
        "\n",
        "Existen diferentes formatos de imágenes tipo .RAW:\n",
        "\n",
        "![RAW Image Formats](https://drive.google.com/uc?id=1Pi0NO8lyRgqadX6JTvALG-cx-JA471gH)\n",
        "\n"
      ]
    },
    {
      "cell_type": "markdown",
      "metadata": {
        "id": "oOCfXj_uE87z"
      },
      "source": [
        "## **Contenido**\n",
        "\n",
        "[**1. Llenando vacios**](#tema1)\n",
        "\n",
        "[**2. Probemos con una imagen**](#tema2)\n",
        "\n",
        "[**3. Hagamos demosaicking**](#tema3)\n",
        "\n",
        "[**4. Correcciones de color**](#tema4)"
      ]
    },
    {
      "cell_type": "markdown",
      "metadata": {
        "id": "mXFUTAvlPGxk"
      },
      "source": [
        "librerias necesarias:"
      ]
    },
    {
      "cell_type": "code",
      "execution_count": 1,
      "metadata": {
        "id": "SAszaQ6YGTHT"
      },
      "outputs": [],
      "source": [
        "import numpy as np\n",
        "import matplotlib.pyplot as plt"
      ]
    },
    {
      "cell_type": "markdown",
      "metadata": {
        "id": "K2C1Fj8hQFM9"
      },
      "source": [
        "descarguemos lo necesario"
      ]
    },
    {
      "cell_type": "code",
      "execution_count": 2,
      "metadata": {
        "id": "CJv3Q6o-QGbu",
        "outputId": "7e24d31f-eef6-40a8-84ae-04edad7255fe",
        "colab": {
          "base_uri": "https://localhost:8080/"
        }
      },
      "outputs": [
        {
          "output_type": "stream",
          "name": "stdout",
          "text": [
            "--2024-10-13 22:56:43--  https://github.com/semilleroCV/Hands-on-Computer-Vision/raw/main/Sesiones/Sesion2/Imagenes/raw_GOPRO1.dng\n",
            "Resolving github.com (github.com)... 140.82.116.4\n",
            "Connecting to github.com (github.com)|140.82.116.4|:443... connected.\n",
            "HTTP request sent, awaiting response... 302 Found\n",
            "Location: https://raw.githubusercontent.com/semilleroCV/Hands-on-Computer-Vision/main/Sesiones/Sesion2/Imagenes/raw_GOPRO1.dng [following]\n",
            "--2024-10-13 22:56:44--  https://raw.githubusercontent.com/semilleroCV/Hands-on-Computer-Vision/main/Sesiones/Sesion2/Imagenes/raw_GOPRO1.dng\n",
            "Resolving raw.githubusercontent.com (raw.githubusercontent.com)... 185.199.108.133, 185.199.109.133, 185.199.110.133, ...\n",
            "Connecting to raw.githubusercontent.com (raw.githubusercontent.com)|185.199.108.133|:443... connected.\n",
            "HTTP request sent, awaiting response... 200 OK\n",
            "Length: 14977972 (14M) [application/octet-stream]\n",
            "Saving to: ‘raw_GOPRO1.dng’\n",
            "\n",
            "raw_GOPRO1.dng      100%[===================>]  14.28M  --.-KB/s    in 0.1s    \n",
            "\n",
            "2024-10-13 22:56:44 (115 MB/s) - ‘raw_GOPRO1.dng’ saved [14977972/14977972]\n",
            "\n"
          ]
        }
      ],
      "source": [
        "!wget https://github.com/semilleroCV/Hands-on-Computer-Vision/raw/main/Sesiones/Sesion2/Imagenes/raw_GOPRO1.dng"
      ]
    },
    {
      "cell_type": "markdown",
      "metadata": {
        "id": "meRy8dsL_Ox3"
      },
      "source": [
        "## <font color='#4C5FDA'>**1. Llenando vacios**</font> <a name=\"tema1\">\n"
      ]
    },
    {
      "cell_type": "code",
      "execution_count": 10,
      "metadata": {
        "colab": {
          "base_uri": "https://localhost:8080/",
          "height": 444
        },
        "id": "UH4zHAXcEaVr",
        "outputId": "ef1bd079-3300-4739-ea22-58ff2489a945"
      },
      "outputs": [
        {
          "output_type": "display_data",
          "data": {
            "text/plain": [
              "<Figure size 1000x500 with 1 Axes>"
            ],
            "image/png": "[encoded data removed]"
          },
          "metadata": {}
        }
      ],
      "source": [
        "my_array = np.zeros((8, 8))\n",
        "my_array[::2,::2] = np.random.randint(30, 255, (4, 4))\n",
        "\n",
        "def plot_tensor_resul(tensor_a):\n",
        "    plt.figure(figsize=(10, 5))\n",
        "    plt.title(\"Matriz\")\n",
        "    plt.imshow(tensor_a, cmap=\"Pastel2\")\n",
        "    plt.xticks([])\n",
        "    plt.yticks([])\n",
        "    for (i, j), z in np.ndenumerate(tensor_a):\n",
        "        plt.text(j, i, '{}'.format(z), ha='center', va='center')\n",
        "\n",
        "a_plus_b = my_array\n",
        "\n",
        "plot_tensor_resul(my_array)"
      ]
    },
    {
      "cell_type": "markdown",
      "metadata": {
        "id": "m4WjtPCLGrsl"
      },
      "source": [
        "## <font color=\"EB9A54\"> **Reto No.1:** </font> Rellena los valores que son 0 en la matriz haciendo interpolacion"
      ]
    },
    {
      "cell_type": "code",
      "execution_count": 23,
      "metadata": {
        "id": "WZR9QimpGsUn"
      },
      "outputs": [],
      "source": [
        "# Reto No.1:  Rellena los valores que son 0 en la matriz haciendo interpolacion\n",
        "# Aqui tu codigo:\n",
        "from scipy.interpolate import griddata"
      ]
    },
    {
      "cell_type": "code",
      "execution_count": 25,
      "metadata": {
        "id": "4VqYpyOLHTbq",
        "outputId": "87544aa8-2b50-49ac-ca25-190c173f7158",
        "colab": {
          "base_uri": "https://localhost:8080/",
          "height": 444
        }
      },
      "outputs": [
        {
          "output_type": "display_data",
          "data": {
            "text/plain": [
              "<Figure size 1000x500 with 1 Axes>"
            ],
            "image/png": "[encoded data removed]"
          },
          "metadata": {}
        }
      ],
      "source": [
        "my_array2 = np.zeros((8, 8))\n",
        "my_array2[::2,::2] = np.random.randint(30, 255, (4, 4))\n",
        "\n",
        "def plot_tensor_resul(tensor_b):\n",
        "    plt.figure(figsize=(10, 5))\n",
        "    plt.title(\"Reto1\")\n",
        "\n",
        "    tensor_b_nan = np.where(tensor_b == 0, np.nan, tensor_b)\n",
        "    plt.imshow(tensor_b, cmap=\"Pastel2\")\n",
        "    x, y = np.meshgrid(np.arange(tensor_b_nan.shape[1]), np.arange(tensor_b_nan.shape[0]))\n",
        "    known_values = ~np.isnan(tensor_b_nan)\n",
        "    x_known = x[known_values]\n",
        "    y_known = y[known_values]\n",
        "    values_known = tensor_b_nan[known_values]\n",
        "\n",
        "    tensor_filled = griddata((x_known, y_known), values_known, (x, y), method='linear')\n",
        "    plt.xticks([])\n",
        "    plt.yticks([])\n",
        "    for (i, j), z in np.ndenumerate(tensor_filled):\n",
        "        plt.text(i, j, '{:.1f}'.format(z), ha='center', va='center')\n",
        "\n",
        "a_plus_b = my_array2\n",
        "\n",
        "plot_tensor_resul(my_array2)"
      ]
    },
    {
      "cell_type": "markdown",
      "metadata": {
        "id": "T3Q6O1ytEZDZ"
      },
      "source": [
        "## <font color='#4C5FDA'>**2. Probemos con una imagen**</font> <a name=\"tema2\">\n"
      ]
    },
    {
      "cell_type": "markdown",
      "metadata": {
        "id": "3I1HXJRfriFV"
      },
      "source": [
        "Vamos a usar una libreria especial para leer imágenes RAW\n"
      ]
    },
    {
      "cell_type": "code",
      "execution_count": null,
      "metadata": {
        "colab": {
          "base_uri": "https://localhost:8080/"
        },
        "id": "gfPfTgvfvuc8",
        "outputId": "827cb4a3-4d3d-4f40-938f-03fe6eb23dce"
      },
      "outputs": [
        {
          "name": "stdout",
          "output_type": "stream",
          "text": [
            "\u001b[?25l     \u001b[90m━━━━━━━━━━━━━━━━━━━━━━━━━━━━━━━━━━━━━━━━\u001b[0m \u001b[32m0.0/1.9 MB\u001b[0m \u001b[31m?\u001b[0m eta \u001b[36m-:--:--\u001b[0m\r\u001b[2K     \u001b[91m━━━\u001b[0m\u001b[91m╸\u001b[0m\u001b[90m━━━━━━━━━━━━━━━━━━━━━━━━━━━━━━━━━━━━\u001b[0m \u001b[32m0.2/1.9 MB\u001b[0m \u001b[31m4.9 MB/s\u001b[0m eta \u001b[36m0:00:01\u001b[0m\r\u001b[2K     \u001b[91m━━━━━━━━━━\u001b[0m\u001b[91m╸\u001b[0m\u001b[90m━━━━━━━━━━━━━━━━━━━━━━━━━━━━━\u001b[0m \u001b[32m0.5/1.9 MB\u001b[0m \u001b[31m7.8 MB/s\u001b[0m eta \u001b[36m0:00:01\u001b[0m\r\u001b[2K     \u001b[91m━━━━━━━━━━━━━━━━━━━\u001b[0m\u001b[91m╸\u001b[0m\u001b[90m━━━━━━━━━━━━━━━━━━━━\u001b[0m \u001b[32m1.0/1.9 MB\u001b[0m \u001b[31m9.1 MB/s\u001b[0m eta \u001b[36m0:00:01\u001b[0m\r\u001b[2K     \u001b[91m━━━━━━━━━━━━━━━━━━━━━━━━━━━━━\u001b[0m\u001b[91m╸\u001b[0m\u001b[90m━━━━━━━━━━\u001b[0m \u001b[32m1.5/1.9 MB\u001b[0m \u001b[31m10.2 MB/s\u001b[0m eta \u001b[36m0:00:01\u001b[0m\r\u001b[2K     \u001b[91m━━━━━━━━━━━━━━━━━━━━━━━━━━━━━━━━━━━━━━━\u001b[0m\u001b[91m╸\u001b[0m \u001b[32m1.9/1.9 MB\u001b[0m \u001b[31m11.3 MB/s\u001b[0m eta \u001b[36m0:00:01\u001b[0m\r\u001b[2K     \u001b[90m━━━━━━━━━━━━━━━━━━━━━━━━━━━━━━━━━━━━━━━━\u001b[0m \u001b[32m1.9/1.9 MB\u001b[0m \u001b[31m9.8 MB/s\u001b[0m eta \u001b[36m0:00:00\u001b[0m\n",
            "\u001b[?25h"
          ]
        }
      ],
      "source": [
        "!pip install -q rawpy"
      ]
    },
    {
      "cell_type": "markdown",
      "metadata": {
        "id": "8tZnOrqsrmzZ"
      },
      "source": [
        "Importemos los paquetes necesarios para realizar el procesamiento"
      ]
    },
    {
      "cell_type": "code",
      "execution_count": null,
      "metadata": {
        "id": "ffK-5OyGvUTl"
      },
      "outputs": [],
      "source": [
        "import numpy as np\n",
        "import matplotlib.pyplot as plt\n",
        "import rawpy\n",
        "from scipy.ndimage import filters"
      ]
    },
    {
      "cell_type": "markdown",
      "metadata": {
        "id": "sCQNaE2xrsUh"
      },
      "source": [
        "Leamos y mostremos una de las imágenes RAW disponibles en nuestra carpeta"
      ]
    },
    {
      "cell_type": "code",
      "execution_count": null,
      "metadata": {
        "id": "xMZVd9tXtg10"
      },
      "outputs": [],
      "source": [
        "with rawpy.imread(\"????????????.dng\") as raw:\n",
        "    print('Leyendo imagen .RAW ...')\n",
        "    image = raw.raw_image.copy()\n",
        "\n",
        "\n",
        "print(f'Tamaño de la imagen: {image.shape}')\n",
        "plt.imshow(image)\n",
        "plt.colorbar()\n",
        "plt.show()"
      ]
    },
    {
      "cell_type": "markdown",
      "metadata": {
        "id": "vzDic2rBJCra"
      },
      "source": [
        "## <font color= \"52F17F\"> **Hazlo tu mismo Nº1:**  </font>  Haz plot de difernetes zonas de la imagen"
      ]
    },
    {
      "cell_type": "code",
      "execution_count": null,
      "metadata": {
        "id": "yAVUxnmVwo9d"
      },
      "outputs": [],
      "source": [
        "# Enfocandonos en una región particular\n",
        "plt.imshow(image[200:1300, 1300:2900]) # cambia esto!\n",
        "plt.colorbar()\n",
        "plt.show()"
      ]
    },
    {
      "cell_type": "markdown",
      "metadata": {
        "id": "y8fm3bbmJQm4"
      },
      "source": [
        "Hagamos Zoom para ver el patrón Bayer"
      ]
    },
    {
      "cell_type": "code",
      "execution_count": null,
      "metadata": {
        "id": "f1OT72C3yxre"
      },
      "outputs": [],
      "source": [
        "plt.imshow(image[310:410, 1405:1505]) # cuales serian los valoes para enfocar el logo de internet explorer?\n",
        "\n",
        "plt.colorbar()\n",
        "plt.show()"
      ]
    },
    {
      "cell_type": "markdown",
      "metadata": {
        "id": "2b8zk8imzKSx"
      },
      "source": [
        "## <font color='#4C5FDA'>**3. Hagamos demosaicking**</font> <a name=\"tema3\">\n",
        "\n",
        "Comenzaremos separando el canal único en tres canales de colores diferentes: rojo, verde y azul (RGB)."
      ]
    },
    {
      "cell_type": "markdown",
      "metadata": {
        "id": "QbjV8_9eKVG8"
      },
      "source": [
        "## <font color=\"EB9A54\"> **Reto No.2:** </font> Separemos la matriz en 3 matrices, una con la informacion de cada canal\n",
        "\n",
        "![link text](https://drive.google.com/uc?id=1Y9eIFwS0nMxZ80ngaqTHXNPXTJ8Nx96C)"
      ]
    },
    {
      "cell_type": "code",
      "execution_count": null,
      "metadata": {
        "id": "C1_lT2ykksNi"
      },
      "outputs": [],
      "source": [
        "RED = 0\n",
        "GREEN = 1\n",
        "BLUE = 2\n",
        "def get_cfa_channel(i, j):\n",
        "    # CR2 CFA Pattern: [Red   , Green] <-- even rows: 0, 2, 4, ...\n",
        "    #                  [Green , Blue]  <-- odd  rows: 1, 3, 5, ...\n",
        "\n"
      ]
    },
    {
      "cell_type": "code",
      "execution_count": null,
      "metadata": {
        "colab": {
          "base_uri": "https://localhost:8080/"
        },
        "id": "xdaXiAQOks5a",
        "outputId": "0f21d15c-d65a-4889-df00-bab742b21ef3"
      },
      "outputs": [
        {
          "data": {
            "text/plain": [
              "2"
            ]
          },
          "execution_count": 8,
          "metadata": {},
          "output_type": "execute_result"
        }
      ],
      "source": [
        "get_cfa_channel(1,1)"
      ]
    },
    {
      "cell_type": "code",
      "execution_count": null,
      "metadata": {
        "id": "Ivv40p8gmEX3"
      },
      "outputs": [],
      "source": [
        "def get_cfa_mask(shape):\n",
        "    # mask = ?\n",
        "\n",
        "    # for i in range width\n",
        "      # for j in range height\n",
        "        # do something\n",
        "\n",
        "    # return mask"
      ]
    },
    {
      "cell_type": "code",
      "execution_count": null,
      "metadata": {
        "id": "Ih_VenK5lX6R"
      },
      "outputs": [],
      "source": [
        "cfa_mask = get_cfa_mask(image.shape)"
      ]
    },
    {
      "cell_type": "code",
      "execution_count": null,
      "metadata": {
        "colab": {
          "base_uri": "https://localhost:8080/"
        },
        "id": "qGwqfE1hnDKc",
        "outputId": "39a065b4-bfcd-4264-b6fc-aecade44831a"
      },
      "outputs": [
        {
          "data": {
            "text/plain": [
              "(2622, 3948)"
            ]
          },
          "execution_count": 11,
          "metadata": {},
          "output_type": "execute_result"
        }
      ],
      "source": [
        "cfa_mask.shape"
      ]
    },
    {
      "cell_type": "code",
      "execution_count": null,
      "metadata": {
        "colab": {
          "base_uri": "https://localhost:8080/"
        },
        "id": "4zHiBgEUnFP7",
        "outputId": "91974f61-c0e9-4173-d950-f80346c16372"
      },
      "outputs": [
        {
          "data": {
            "text/plain": [
              "dtype('float64')"
            ]
          },
          "execution_count": 12,
          "metadata": {},
          "output_type": "execute_result"
        }
      ],
      "source": [
        "cfa_mask.dtype"
      ]
    },
    {
      "cell_type": "code",
      "execution_count": null,
      "metadata": {
        "colab": {
          "base_uri": "https://localhost:8080/"
        },
        "id": "FydadYOAnIxj",
        "outputId": "ba45cc1f-c2e0-4988-f2fe-c325208be234"
      },
      "outputs": [
        {
          "name": "stdout",
          "output_type": "stream",
          "text": [
            "[[0. 1. 0. ... 1. 0. 1.]\n",
            " [1. 2. 1. ... 2. 1. 2.]\n",
            " [0. 1. 0. ... 1. 0. 1.]\n",
            " ...\n",
            " [1. 2. 1. ... 2. 1. 2.]\n",
            " [0. 1. 0. ... 1. 0. 1.]\n",
            " [1. 2. 1. ... 2. 1. 2.]]\n"
          ]
        }
      ],
      "source": [
        "print(cfa_mask) # que significa esa matriz?"
      ]
    },
    {
      "cell_type": "code",
      "execution_count": null,
      "metadata": {
        "id": "sDx4tg5IzNiH"
      },
      "outputs": [],
      "source": [
        "print('Comenzando proceso de Demosaicking:')\n",
        "print('Extrayendo filtros respecto a su posición...')\n",
        "r_mask = (cfa_mask == RED)\n",
        "g_mask = (cfa_mask == GREEN)\n",
        "b_mask = (cfa_mask == BLUE)\n",
        "\n",
        "print('Separando los diferentes canales de color...')\n",
        "r = image * r_mask\n",
        "g = image * g_mask\n",
        "b = image * b_mask"
      ]
    },
    {
      "cell_type": "markdown",
      "metadata": {
        "id": "zECtyzJtJ4Ic"
      },
      "source": [
        "hagamos el plot!"
      ]
    },
    {
      "cell_type": "code",
      "execution_count": null,
      "metadata": {
        "id": "xA2MzYAhIqmk"
      },
      "outputs": [],
      "source": [
        "plt.subplot(3,2,1)\n",
        "plt.imshow(r)\n",
        "plt.colorbar()\n",
        "plt.subplot(3,2,2)\n",
        "plt.imshow(r[310:410, 1405:1505])\n",
        "plt.colorbar()\n",
        "#plt.show()\n",
        "\n",
        "plt.subplot(3,2,3)\n",
        "plt.imshow(g)\n",
        "plt.colorbar()\n",
        "plt.subplot(3,2,4)\n",
        "plt.imshow(g[310:410, 1405:1505])\n",
        "plt.colorbar()\n",
        "#plt.show()\n",
        "\n",
        "plt.subplot(3,2,5)\n",
        "plt.imshow(b)\n",
        "plt.colorbar()\n",
        "plt.subplot(3,2,6)\n",
        "plt.imshow(b[310:410, 1405:1505])\n",
        "plt.colorbar()\n",
        "#plt.show()"
      ]
    },
    {
      "cell_type": "markdown",
      "metadata": {
        "id": "IA9-XXYi12w6"
      },
      "source": [
        "## <font color=\"EB9A54\"> **Reto No.3:** </font> Rellenemos los huecos, ahora en toda la imagen"
      ]
    },
    {
      "cell_type": "code",
      "execution_count": null,
      "metadata": {
        "id": "QLfo85al1y4Z"
      },
      "outputs": [],
      "source": [
        "#Filtro lineal para el canal verde\n",
        "G_KERNEL = # np.array( [ ? ] ) / ?\n",
        "\n",
        "#Filtro lineal para los canales azul y rojo (Note la diferencia)\n",
        "RB_KERNEL = # np.array( [ ? ] ) / ?\n",
        "\n",
        "r = # filters.convolve( ? ,  ? )\n",
        "g = # ...\n",
        "b = # ...\n",
        "\n",
        "plt.subplot(3,2,1)\n",
        "plt.imshow(r)\n",
        "plt.colorbar()\n",
        "plt.subplot(3,2,2)\n",
        "plt.imshow(r[310:410, 1405:1505])\n",
        "plt.colorbar()\n",
        "\n",
        "plt.subplot(3,2,3)\n",
        "plt.imshow(g)\n",
        "plt.colorbar()\n",
        "plt.subplot(3,2,4)\n",
        "plt.imshow(g[310:410, 1405:1505])\n",
        "plt.colorbar()\n",
        "\n",
        "plt.subplot(3,2,5)\n",
        "plt.imshow(b)\n",
        "plt.colorbar()\n",
        "plt.subplot(3,2,6)\n",
        "plt.imshow(b[310:410, 1405:1505])\n",
        "plt.colorbar()"
      ]
    },
    {
      "cell_type": "markdown",
      "metadata": {
        "id": "IFZ4X7k4AmDp"
      },
      "source": [
        "## <font color=\"EB9A54\"> **Reto No.4:** </font> Agrupa las matrices"
      ]
    },
    {
      "cell_type": "code",
      "execution_count": null,
      "metadata": {
        "id": "9ouzXXbQAnJa"
      },
      "outputs": [],
      "source": [
        "print('Agrupando canales para generar imagen RGB ...')\n",
        "\n",
        "rgb = # ??????? queremos obtener una matriz de h,w,3 a partir de 3 matrices de h,w\n",
        "\n",
        "\n",
        "plt.imshow(rgb / rgb.max()) # Normalización\n",
        "plt.colorbar()\n",
        "plt.show()"
      ]
    },
    {
      "cell_type": "markdown",
      "metadata": {
        "id": "he7juY8XA0ph"
      },
      "source": [
        "## <font color='#4C5FDA'>**4. Correcciones de color**</font> <a name=\"tema4\">\n",
        "\n",
        "Comenzaremos separando el canal único en tres canales de colores diferentes: rojo, verde y azul (RGB).\n"
      ]
    },
    {
      "cell_type": "code",
      "execution_count": null,
      "metadata": {
        "id": "-mr3GN1GA4TQ"
      },
      "outputs": [],
      "source": [
        "print('Ajustando el nivel de negro ...')\n",
        "# resta el minimo valor de cada canal a cada canal\n",
        "rgb -= # np.array([ ? ])\n",
        "\n",
        "print('Balanceando blancos ...')\n",
        "# divide la imagen por el max-min de cada canal\n",
        "rgb /= # np.array([ ? ])\n",
        "\n",
        "plt.imshow(rgb)\n",
        "plt.colorbar()\n",
        "plt.show()"
      ]
    },
    {
      "cell_type": "markdown",
      "metadata": {
        "id": "k3GRUjZ_C24v"
      },
      "source": [
        "Nuevamente, este es un enfoque muy básico, ya que no utilizamos ninguna de las estadísticas del fabricante de la cámara ni la sensibilidad configurada con la que se capturó la imagen.\n",
        "\n",
        "Terminaremos con una corrección gamma (pronto la veremos) para enriquecer los colores."
      ]
    },
    {
      "cell_type": "code",
      "execution_count": null,
      "metadata": {
        "id": "Ny7C8AiCC2Vj"
      },
      "outputs": [],
      "source": [
        "GAMMA = # que valor?\n",
        "\n",
        "# eleva la imagen a el valor gamma\n",
        "rgb = # ????\n",
        "\n",
        "plt.imshow(rgb)\n",
        "plt.colorbar()\n",
        "plt.show()"
      ]
    },
    {
      "cell_type": "markdown",
      "metadata": {
        "id": "3cC-58MVuAVE"
      },
      "source": [
        "Carguemos la imagen .RAW nuevamente y ejecutemos un método avanzado (por defecto en el paquete `rawpy`).\n",
        "¿Puedes notar la diferencia?"
      ]
    },
    {
      "cell_type": "code",
      "execution_count": null,
      "metadata": {
        "id": "ughrmo-wcNWn"
      },
      "outputs": [],
      "source": [
        "# Comparando contra la imagen original\n",
        "with rawpy.imread('raw.CR2') as raw:\n",
        "    print('Reading image raw data...')\n",
        "    rgb2 = raw.postprocess(use_camera_wb=True)\n",
        "\n",
        "plt.imshow(rgb2)"
      ]
    },
    {
      "cell_type": "code",
      "execution_count": null,
      "metadata": {
        "colab": {
          "base_uri": "https://localhost:8080/"
        },
        "id": "9ZvDrMYivolc",
        "outputId": "e9d351d8-92c5-4f52-a019-54cf4161d28f"
      },
      "outputs": [
        {
          "name": "stdout",
          "output_type": "stream",
          "text": [
            "uint8\n"
          ]
        }
      ],
      "source": [
        "print(rgb2.dtype)"
      ]
    },
    {
      "cell_type": "markdown",
      "metadata": {
        "id": "jJJ_mET3NqUn"
      },
      "source": [
        "como hacen eso?, explora tu mismo el codigo en c++ !\n",
        "[link al codigo](https://github.com/LibRaw/LibRaw/blob/master/src/demosaic/misc_demosaic.cpp#L127)\n",
        "\n",
        "![ASdasd](https://i.imgur.com/lmFdwBE.png)"
      ]
    }
  ],
  "metadata": {
    "colab": {
      "provenance": []
    },
    "kernelspec": {
      "display_name": "Python 3",
      "name": "python3"
    },
    "language_info": {
      "name": "python"
    }
  },
  "nbformat": 4,
  "nbformat_minor": 0
}